{
 "cells": [
  {
   "cell_type": "markdown",
   "metadata": {},
   "source": [
    "### FABSO Quickstart\n",
    "---\n",
    "Quickstart of the Fitness-Distance-Ratio Archive-Based Swarm Optimization (FABSO) algorithm"
   ]
  },
  {
   "cell_type": "code",
   "execution_count": 1,
   "metadata": {},
   "outputs": [],
   "source": [
    "# Import modules from fabso\n",
    "from fabso.topology import Space\n",
    "from fabso.optimizer import FABSO\n",
    "from fabso.utils import viz"
   ]
  },
  {
   "cell_type": "code",
   "execution_count": 2,
   "metadata": {},
   "outputs": [],
   "source": [
    "# Libraries\n",
    "import numpy as np\n",
    "import matplotlib.pyplot as plt\n",
    "%matplotlib inline"
   ]
  },
  {
   "cell_type": "markdown",
   "metadata": {},
   "source": [
    "### Fitness function\n",
    "---\n",
    "##### De Jong's function 1\n",
    "Sum of the square of each value where the value. Defined as \n",
    "\n",
    "![equation](./images/equation.png)"
   ]
  },
  {
   "cell_type": "code",
   "execution_count": 3,
   "metadata": {},
   "outputs": [],
   "source": [
    "# Fitness function\n",
    "# returning a negative value as we want to minimize the\n",
    "# objective function using a maximizing algorithm.\n",
    "\n",
    "def fitness(x):\n",
    "    x = [i**2 for i in x]\n",
    "    return -sum(x)"
   ]
  },
  {
   "cell_type": "code",
   "execution_count": 4,
   "metadata": {},
   "outputs": [],
   "source": [
    "# Initial Parameters\n",
    "bounds = (-5.12, 5.12)\n",
    "n_particles = 20\n",
    "n_dimensions = 5"
   ]
  },
  {
   "cell_type": "code",
   "execution_count": 5,
   "metadata": {},
   "outputs": [],
   "source": [
    "# Algorithm Parameters\n",
    "objective = fitness\n",
    "\n",
    "params = {'w': 0.9, 'c1': 1, 'c2': 0, 'c3': 2}\n",
    "generations = 50\n",
    "archive_size = 5\n",
    "restart_freq = 20"
   ]
  },
  {
   "cell_type": "code",
   "execution_count": 6,
   "metadata": {},
   "outputs": [],
   "source": [
    "# Generate random particles\n",
    "particles = np.random.randn(n_particles, n_dimensions)"
   ]
  },
  {
   "cell_type": "code",
   "execution_count": 7,
   "metadata": {},
   "outputs": [],
   "source": [
    "# Initialize search space\n",
    "space = Space(bounds, objective, n_particles, n_dimensions)\n",
    "space.generate_particles(particles)"
   ]
  },
  {
   "cell_type": "code",
   "execution_count": 8,
   "metadata": {},
   "outputs": [
    {
     "name": "stdout",
     "output_type": "stream",
     "text": [
      "Optimal value achieved:  0.0031502919825738933\n"
     ]
    }
   ],
   "source": [
    "# Initialize algorithms with parameters\n",
    "fabso = FABSO(space, bounds, params, objective, generations,\n",
    "        n_particles, n_dimensions, archive_size, restart_freq)\n",
    "\n",
    "# Optimize objective function\n",
    "result = fabso.optimize()\n",
    "print('Optimal value achieved: ', result[-1])"
   ]
  },
  {
   "cell_type": "code",
   "execution_count": 9,
   "metadata": {},
   "outputs": [
    {
     "data": {
      "image/png": "[encoded data removed]",
      "text/plain": [
       "<Figure size 432x288 with 1 Axes>"
      ]
     },
     "metadata": {
      "needs_background": "light"
     },
     "output_type": "display_data"
    }
   ],
   "source": [
    "# Generate plot\n",
    "fig = viz(result)\n",
    "fig.show()"
   ]
  },
  {
   "cell_type": "code",
   "execution_count": null,
   "metadata": {},
   "outputs": [],
   "source": []
  }
 ],
 "metadata": {
  "kernelspec": {
   "display_name": "ml",
   "language": "python",
   "name": "ml"
  },
  "language_info": {
   "codemirror_mode": {
    "name": "ipython",
    "version": 3
   },
   "file_extension": ".py",
   "mimetype": "text/x-python",
   "name": "python",
   "nbconvert_exporter": "python",
   "pygments_lexer": "ipython3",
   "version": "3.7.4"
  }
 },
 "nbformat": 4,
 "nbformat_minor": 4
}
